{
 "cells": [
  {
   "cell_type": "code",
   "execution_count": 8,
   "metadata": {},
   "outputs": [],
   "source": [
    "import numpy as np\n",
    "import pandas as pd\n",
    "import matplotlib.pyplot as plt\n",
    "import itertools\n",
    "from collections import defaultdict\n",
    "import pickle\n",
    "from IPython import display\n",
    "%matplotlib inline"
   ]
  },
  {
   "cell_type": "code",
   "execution_count": 2,
   "metadata": {},
   "outputs": [],
   "source": [
    "def get_player_map(outcome):    \n",
    "    # get unique players\n",
    "    players = set()\n",
    "    account_id_cols = []\n",
    "    for i in range(5):\n",
    "        col_name = 'account_id_' + str(i)\n",
    "        account_id_cols.append(col_name)\n",
    "    for col_name in account_id_cols:                \n",
    "        players = players.union(set(outcome[col_name].values))        \n",
    "    players = players - set([0])\n",
    "    players = {player: {} for player in players}\n",
    "    \n",
    "    outcome.sort_values(by=['match_id', 'rad'], inplace=True)    \n",
    "    n_matches = len(outcome)//2\n",
    "    # record data\n",
    "    for i in range(n_matches):\n",
    "        if i % 10000 == 0:\n",
    "            print('{:.2%}'.format(i/n_matches))\n",
    "            display.clear_output(wait=True)\n",
    "        row_dire = i*2\n",
    "        row_rad = i*2+1        \n",
    "        team_dire = set(outcome.loc[row_dire, account_id_cols].values)-set([0])\n",
    "        team_rad = set(outcome.loc[row_rad, account_id_cols].values)-set([0])\n",
    "        \n",
    "        # record team mate info\n",
    "        for team in [team_dire, team_rad]:\n",
    "            for pair in itertools.combinations(team, 2):\n",
    "                for selected_id in [0, 1]:                    \n",
    "                    other_id = (selected_id+1)%2\n",
    "                    selected = pair[selected_id]\n",
    "                    other = pair[other_id]\n",
    "\n",
    "                    if other not in players[selected]:\n",
    "                        players[selected][other] = [0, 0]\n",
    "                    players[selected][other][0] += 1\n",
    "        \n",
    "        # record opponent info\n",
    "        for id_rad in team_rad:\n",
    "            for id_dire in team_dire:\n",
    "                if id_dire not in players[id_rad]:\n",
    "                    players[id_rad][id_dire] = [0, 0]\n",
    "                if id_rad not in players[id_dire]:\n",
    "                    players[id_dire][id_rad] = [0, 0]\n",
    "                players[id_dire][id_rad][1] += 1\n",
    "                players[id_rad][id_dire][1] += 1\n",
    "        \n",
    "    return players"
   ]
  },
  {
   "cell_type": "code",
   "execution_count": 5,
   "metadata": {},
   "outputs": [],
   "source": [
    "folder = 'D:/OMSCS/CSE6242/Project/Plot1/data/'\n",
    "file = 'match_outcome'"
   ]
  },
  {
   "cell_type": "code",
   "execution_count": 6,
   "metadata": {},
   "outputs": [],
   "source": [
    "match_outcome = pd.read_csv(folder+file+'.csv').drop('Unnamed: 0', axis=1)"
   ]
  },
  {
   "cell_type": "code",
   "execution_count": 9,
   "metadata": {},
   "outputs": [
    {
     "name": "stdout",
     "output_type": "stream",
     "text": [
      "99.53%\n"
     ]
    }
   ],
   "source": [
    "player_net = get_player_map(match_outcome)"
   ]
  },
  {
   "cell_type": "code",
   "execution_count": 130,
   "metadata": {},
   "outputs": [],
   "source": [
    "with open(folder+'player_net', 'wb') as handle:\n",
    "    pickle.dump(player_net, handle, protocol=pickle.HIGHEST_PROTOCOL)"
   ]
  }
 ],
 "metadata": {
  "kernelspec": {
   "display_name": "Python 3",
   "language": "python",
   "name": "python3"
  },
  "language_info": {
   "codemirror_mode": {
    "name": "ipython",
    "version": 3
   },
   "file_extension": ".py",
   "mimetype": "text/x-python",
   "name": "python",
   "nbconvert_exporter": "python",
   "pygments_lexer": "ipython3",
   "version": "3.7.3"
  }
 },
 "nbformat": 4,
 "nbformat_minor": 2
}
